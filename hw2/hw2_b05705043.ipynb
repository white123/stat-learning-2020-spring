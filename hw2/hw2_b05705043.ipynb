{
 "cells": [
  {
   "cell_type": "markdown",
   "metadata": {},
   "source": [
    "# 資管四 唐瑋廷 B05705043 HW2"
   ]
  },
  {
   "cell_type": "code",
   "execution_count": 1,
   "metadata": {},
   "outputs": [],
   "source": [
    "import numpy as np\n",
    "import pandas as pd\n",
    "from sklearn.linear_model import LinearRegression\n",
    "from sklearn.linear_model import Ridge\n",
    "from sklearn.linear_model import Lasso\n",
    "import matplotlib.pyplot as plt"
   ]
  },
  {
   "cell_type": "markdown",
   "metadata": {},
   "source": [
    "## Q1"
   ]
  },
  {
   "cell_type": "markdown",
   "metadata": {},
   "source": [
    "### 讀取 training data"
   ]
  },
  {
   "cell_type": "code",
   "execution_count": 2,
   "metadata": {},
   "outputs": [],
   "source": [
    "df = pd.read_csv('data/df1_train.csv')"
   ]
  },
  {
   "cell_type": "markdown",
   "metadata": {},
   "source": [
    "### 分析 dataset"
   ]
  },
  {
   "cell_type": "code",
   "execution_count": 3,
   "metadata": {},
   "outputs": [
    {
     "data": {
      "text/html": [
       "<div>\n",
       "<style scoped>\n",
       "    .dataframe tbody tr th:only-of-type {\n",
       "        vertical-align: middle;\n",
       "    }\n",
       "\n",
       "    .dataframe tbody tr th {\n",
       "        vertical-align: top;\n",
       "    }\n",
       "\n",
       "    .dataframe thead th {\n",
       "        text-align: right;\n",
       "    }\n",
       "</style>\n",
       "<table border=\"1\" class=\"dataframe\">\n",
       "  <thead>\n",
       "    <tr style=\"text-align: right;\">\n",
       "      <th></th>\n",
       "      <th>life_post_consumer</th>\n",
       "      <th>comp_page_like</th>\n",
       "      <th>Paid</th>\n",
       "      <th>life_post_reach</th>\n",
       "      <th>life_post_impression_liked</th>\n",
       "      <th>life_post_reach_liked</th>\n",
       "      <th>comment</th>\n",
       "      <th>like</th>\n",
       "      <th>share</th>\n",
       "      <th>type_link</th>\n",
       "      <th>...</th>\n",
       "      <th>hour5</th>\n",
       "      <th>hour6</th>\n",
       "      <th>hour7</th>\n",
       "      <th>hour8</th>\n",
       "      <th>hour9</th>\n",
       "      <th>hour10</th>\n",
       "      <th>hour11</th>\n",
       "      <th>hour12</th>\n",
       "      <th>hour13</th>\n",
       "      <th>hour14</th>\n",
       "    </tr>\n",
       "  </thead>\n",
       "  <tbody>\n",
       "    <tr>\n",
       "      <th>count</th>\n",
       "      <td>400.000000</td>\n",
       "      <td>400.000000</td>\n",
       "      <td>400.000000</td>\n",
       "      <td>400.000000</td>\n",
       "      <td>4.000000e+02</td>\n",
       "      <td>400.000000</td>\n",
       "      <td>400.000000</td>\n",
       "      <td>400.00000</td>\n",
       "      <td>400.000000</td>\n",
       "      <td>400.000000</td>\n",
       "      <td>...</td>\n",
       "      <td>400.000000</td>\n",
       "      <td>400.000000</td>\n",
       "      <td>400.000000</td>\n",
       "      <td>400.000000</td>\n",
       "      <td>400.000000</td>\n",
       "      <td>400.000000</td>\n",
       "      <td>400.000000</td>\n",
       "      <td>400.000000</td>\n",
       "      <td>400.000000</td>\n",
       "      <td>400.00000</td>\n",
       "    </tr>\n",
       "    <tr>\n",
       "      <th>mean</th>\n",
       "      <td>810.340000</td>\n",
       "      <td>122890.625000</td>\n",
       "      <td>0.260000</td>\n",
       "      <td>13436.855000</td>\n",
       "      <td>1.747735e+04</td>\n",
       "      <td>6585.952500</td>\n",
       "      <td>6.855000</td>\n",
       "      <td>169.07250</td>\n",
       "      <td>25.485000</td>\n",
       "      <td>0.037500</td>\n",
       "      <td>...</td>\n",
       "      <td>0.022500</td>\n",
       "      <td>0.030000</td>\n",
       "      <td>0.032500</td>\n",
       "      <td>0.022500</td>\n",
       "      <td>0.062500</td>\n",
       "      <td>0.150000</td>\n",
       "      <td>0.092500</td>\n",
       "      <td>0.055000</td>\n",
       "      <td>0.102500</td>\n",
       "      <td>0.02500</td>\n",
       "    </tr>\n",
       "    <tr>\n",
       "      <th>std</th>\n",
       "      <td>899.037251</td>\n",
       "      <td>16280.121461</td>\n",
       "      <td>0.439184</td>\n",
       "      <td>20454.614675</td>\n",
       "      <td>6.614514e+04</td>\n",
       "      <td>7599.228501</td>\n",
       "      <td>14.402519</td>\n",
       "      <td>243.14837</td>\n",
       "      <td>25.946248</td>\n",
       "      <td>0.190221</td>\n",
       "      <td>...</td>\n",
       "      <td>0.148489</td>\n",
       "      <td>0.170801</td>\n",
       "      <td>0.177546</td>\n",
       "      <td>0.148489</td>\n",
       "      <td>0.242365</td>\n",
       "      <td>0.357519</td>\n",
       "      <td>0.290093</td>\n",
       "      <td>0.228266</td>\n",
       "      <td>0.303685</td>\n",
       "      <td>0.15632</td>\n",
       "    </tr>\n",
       "    <tr>\n",
       "      <th>min</th>\n",
       "      <td>17.000000</td>\n",
       "      <td>81370.000000</td>\n",
       "      <td>0.000000</td>\n",
       "      <td>238.000000</td>\n",
       "      <td>5.670000e+02</td>\n",
       "      <td>236.000000</td>\n",
       "      <td>0.000000</td>\n",
       "      <td>0.00000</td>\n",
       "      <td>0.000000</td>\n",
       "      <td>0.000000</td>\n",
       "      <td>...</td>\n",
       "      <td>0.000000</td>\n",
       "      <td>0.000000</td>\n",
       "      <td>0.000000</td>\n",
       "      <td>0.000000</td>\n",
       "      <td>0.000000</td>\n",
       "      <td>0.000000</td>\n",
       "      <td>0.000000</td>\n",
       "      <td>0.000000</td>\n",
       "      <td>0.000000</td>\n",
       "      <td>0.00000</td>\n",
       "    </tr>\n",
       "    <tr>\n",
       "      <th>25%</th>\n",
       "      <td>335.000000</td>\n",
       "      <td>112676.000000</td>\n",
       "      <td>0.000000</td>\n",
       "      <td>3282.500000</td>\n",
       "      <td>3.962500e+03</td>\n",
       "      <td>2171.000000</td>\n",
       "      <td>1.000000</td>\n",
       "      <td>55.75000</td>\n",
       "      <td>10.000000</td>\n",
       "      <td>0.000000</td>\n",
       "      <td>...</td>\n",
       "      <td>0.000000</td>\n",
       "      <td>0.000000</td>\n",
       "      <td>0.000000</td>\n",
       "      <td>0.000000</td>\n",
       "      <td>0.000000</td>\n",
       "      <td>0.000000</td>\n",
       "      <td>0.000000</td>\n",
       "      <td>0.000000</td>\n",
       "      <td>0.000000</td>\n",
       "      <td>0.00000</td>\n",
       "    </tr>\n",
       "    <tr>\n",
       "      <th>50%</th>\n",
       "      <td>554.500000</td>\n",
       "      <td>128816.000000</td>\n",
       "      <td>0.000000</td>\n",
       "      <td>5150.000000</td>\n",
       "      <td>6.214500e+03</td>\n",
       "      <td>3391.000000</td>\n",
       "      <td>3.000000</td>\n",
       "      <td>98.00000</td>\n",
       "      <td>18.500000</td>\n",
       "      <td>0.000000</td>\n",
       "      <td>...</td>\n",
       "      <td>0.000000</td>\n",
       "      <td>0.000000</td>\n",
       "      <td>0.000000</td>\n",
       "      <td>0.000000</td>\n",
       "      <td>0.000000</td>\n",
       "      <td>0.000000</td>\n",
       "      <td>0.000000</td>\n",
       "      <td>0.000000</td>\n",
       "      <td>0.000000</td>\n",
       "      <td>0.00000</td>\n",
       "    </tr>\n",
       "    <tr>\n",
       "      <th>75%</th>\n",
       "      <td>955.500000</td>\n",
       "      <td>136393.000000</td>\n",
       "      <td>1.000000</td>\n",
       "      <td>13232.000000</td>\n",
       "      <td>1.510450e+04</td>\n",
       "      <td>8011.000000</td>\n",
       "      <td>7.000000</td>\n",
       "      <td>187.25000</td>\n",
       "      <td>32.000000</td>\n",
       "      <td>0.000000</td>\n",
       "      <td>...</td>\n",
       "      <td>0.000000</td>\n",
       "      <td>0.000000</td>\n",
       "      <td>0.000000</td>\n",
       "      <td>0.000000</td>\n",
       "      <td>0.000000</td>\n",
       "      <td>0.000000</td>\n",
       "      <td>0.000000</td>\n",
       "      <td>0.000000</td>\n",
       "      <td>0.000000</td>\n",
       "      <td>0.00000</td>\n",
       "    </tr>\n",
       "    <tr>\n",
       "      <th>max</th>\n",
       "      <td>11328.000000</td>\n",
       "      <td>139441.000000</td>\n",
       "      <td>1.000000</td>\n",
       "      <td>139008.000000</td>\n",
       "      <td>1.107833e+06</td>\n",
       "      <td>48368.000000</td>\n",
       "      <td>146.000000</td>\n",
       "      <td>1998.00000</td>\n",
       "      <td>208.000000</td>\n",
       "      <td>1.000000</td>\n",
       "      <td>...</td>\n",
       "      <td>1.000000</td>\n",
       "      <td>1.000000</td>\n",
       "      <td>1.000000</td>\n",
       "      <td>1.000000</td>\n",
       "      <td>1.000000</td>\n",
       "      <td>1.000000</td>\n",
       "      <td>1.000000</td>\n",
       "      <td>1.000000</td>\n",
       "      <td>1.000000</td>\n",
       "      <td>1.00000</td>\n",
       "    </tr>\n",
       "  </tbody>\n",
       "</table>\n",
       "<p>8 rows × 44 columns</p>\n",
       "</div>"
      ],
      "text/plain": [
       "       life_post_consumer  comp_page_like        Paid  life_post_reach  \\\n",
       "count          400.000000      400.000000  400.000000       400.000000   \n",
       "mean           810.340000   122890.625000    0.260000     13436.855000   \n",
       "std            899.037251    16280.121461    0.439184     20454.614675   \n",
       "min             17.000000    81370.000000    0.000000       238.000000   \n",
       "25%            335.000000   112676.000000    0.000000      3282.500000   \n",
       "50%            554.500000   128816.000000    0.000000      5150.000000   \n",
       "75%            955.500000   136393.000000    1.000000     13232.000000   \n",
       "max          11328.000000   139441.000000    1.000000    139008.000000   \n",
       "\n",
       "       life_post_impression_liked  life_post_reach_liked     comment  \\\n",
       "count                4.000000e+02             400.000000  400.000000   \n",
       "mean                 1.747735e+04            6585.952500    6.855000   \n",
       "std                  6.614514e+04            7599.228501   14.402519   \n",
       "min                  5.670000e+02             236.000000    0.000000   \n",
       "25%                  3.962500e+03            2171.000000    1.000000   \n",
       "50%                  6.214500e+03            3391.000000    3.000000   \n",
       "75%                  1.510450e+04            8011.000000    7.000000   \n",
       "max                  1.107833e+06           48368.000000  146.000000   \n",
       "\n",
       "             like       share   type_link  ...       hour5       hour6  \\\n",
       "count   400.00000  400.000000  400.000000  ...  400.000000  400.000000   \n",
       "mean    169.07250   25.485000    0.037500  ...    0.022500    0.030000   \n",
       "std     243.14837   25.946248    0.190221  ...    0.148489    0.170801   \n",
       "min       0.00000    0.000000    0.000000  ...    0.000000    0.000000   \n",
       "25%      55.75000   10.000000    0.000000  ...    0.000000    0.000000   \n",
       "50%      98.00000   18.500000    0.000000  ...    0.000000    0.000000   \n",
       "75%     187.25000   32.000000    0.000000  ...    0.000000    0.000000   \n",
       "max    1998.00000  208.000000    1.000000  ...    1.000000    1.000000   \n",
       "\n",
       "            hour7       hour8       hour9      hour10      hour11      hour12  \\\n",
       "count  400.000000  400.000000  400.000000  400.000000  400.000000  400.000000   \n",
       "mean     0.032500    0.022500    0.062500    0.150000    0.092500    0.055000   \n",
       "std      0.177546    0.148489    0.242365    0.357519    0.290093    0.228266   \n",
       "min      0.000000    0.000000    0.000000    0.000000    0.000000    0.000000   \n",
       "25%      0.000000    0.000000    0.000000    0.000000    0.000000    0.000000   \n",
       "50%      0.000000    0.000000    0.000000    0.000000    0.000000    0.000000   \n",
       "75%      0.000000    0.000000    0.000000    0.000000    0.000000    0.000000   \n",
       "max      1.000000    1.000000    1.000000    1.000000    1.000000    1.000000   \n",
       "\n",
       "           hour13     hour14  \n",
       "count  400.000000  400.00000  \n",
       "mean     0.102500    0.02500  \n",
       "std      0.303685    0.15632  \n",
       "min      0.000000    0.00000  \n",
       "25%      0.000000    0.00000  \n",
       "50%      0.000000    0.00000  \n",
       "75%      0.000000    0.00000  \n",
       "max      1.000000    1.00000  \n",
       "\n",
       "[8 rows x 44 columns]"
      ]
     },
     "execution_count": 3,
     "metadata": {},
     "output_type": "execute_result"
    }
   ],
   "source": [
    "df.describe()"
   ]
  },
  {
   "cell_type": "markdown",
   "metadata": {},
   "source": [
    "用幾個連續數值的變數對y作散佈圖"
   ]
  },
  {
   "cell_type": "code",
   "execution_count": 4,
   "metadata": {},
   "outputs": [
    {
     "data": {
      "text/plain": [
       "<matplotlib.axes._subplots.AxesSubplot at 0x7fa3bb2a2990>"
      ]
     },
     "execution_count": 4,
     "metadata": {},
     "output_type": "execute_result"
    },
    {
     "data": {
      "image/png": "[encoded data removed]",
      "text/plain": [
       "<Figure size 432x288 with 1 Axes>"
      ]
     },
     "metadata": {
      "needs_background": "light"
     },
     "output_type": "display_data"
    }
   ],
   "source": [
    "df.plot.scatter(x='comp_page_like',\n",
    "                      y='life_post_consumer')"
   ]
  },
  {
   "cell_type": "code",
   "execution_count": 5,
   "metadata": {},
   "outputs": [
    {
     "data": {
      "text/plain": [
       "<matplotlib.axes._subplots.AxesSubplot at 0x7fa3b87b0f90>"
      ]
     },
     "execution_count": 5,
     "metadata": {},
     "output_type": "execute_result"
    },
    {
     "data": {
      "image/png": "[encoded data removed]",
      "text/plain": [
       "<Figure size 432x288 with 1 Axes>"
      ]
     },
     "metadata": {
      "needs_background": "light"
     },
     "output_type": "display_data"
    }
   ],
   "source": [
    "df.plot.scatter(x='life_post_reach',\n",
    "                      y='life_post_consumer')"
   ]
  },
  {
   "cell_type": "code",
   "execution_count": 6,
   "metadata": {},
   "outputs": [
    {
     "data": {
      "text/plain": [
       "<matplotlib.axes._subplots.AxesSubplot at 0x7fa3b87384d0>"
      ]
     },
     "execution_count": 6,
     "metadata": {},
     "output_type": "execute_result"
    },
    {
     "data": {
      "image/png": "[encoded data removed]",
      "text/plain": [
       "<Figure size 432x288 with 1 Axes>"
      ]
     },
     "metadata": {
      "needs_background": "light"
     },
     "output_type": "display_data"
    }
   ],
   "source": [
    "df.plot.scatter(x='life_post_impression_liked',\n",
    "                      y='life_post_consumer')"
   ]
  },
  {
   "cell_type": "code",
   "execution_count": 7,
   "metadata": {},
   "outputs": [
    {
     "data": {
      "text/plain": [
       "<matplotlib.axes._subplots.AxesSubplot at 0x7fa3b8725510>"
      ]
     },
     "execution_count": 7,
     "metadata": {},
     "output_type": "execute_result"
    },
    {
     "data": {
      "image/png": "[encoded data removed]",
      "text/plain": [
       "<Figure size 432x288 with 1 Axes>"
      ]
     },
     "metadata": {
      "needs_background": "light"
     },
     "output_type": "display_data"
    }
   ],
   "source": [
    "df.plot.scatter(x='life_post_reach_liked',\n",
    "                      y='life_post_consumer')"
   ]
  },
  {
   "cell_type": "code",
   "execution_count": 8,
   "metadata": {},
   "outputs": [
    {
     "data": {
      "text/plain": [
       "<matplotlib.axes._subplots.AxesSubplot at 0x7fa3b8694b50>"
      ]
     },
     "execution_count": 8,
     "metadata": {},
     "output_type": "execute_result"
    },
    {
     "data": {
      "image/png": "[encoded data removed]",
      "text/plain": [
       "<Figure size 432x288 with 1 Axes>"
      ]
     },
     "metadata": {
      "needs_background": "light"
     },
     "output_type": "display_data"
    }
   ],
   "source": [
    "df.plot.scatter(x='comment',\n",
    "                      y='life_post_consumer')"
   ]
  },
  {
   "cell_type": "code",
   "execution_count": 9,
   "metadata": {},
   "outputs": [
    {
     "data": {
      "text/plain": [
       "<matplotlib.axes._subplots.AxesSubplot at 0x7fa3b860a190>"
      ]
     },
     "execution_count": 9,
     "metadata": {},
     "output_type": "execute_result"
    },
    {
     "data": {
      "image/png": "[encoded data removed]",
      "text/plain": [
       "<Figure size 432x288 with 1 Axes>"
      ]
     },
     "metadata": {
      "needs_background": "light"
     },
     "output_type": "display_data"
    }
   ],
   "source": [
    "df.plot.scatter(x='like',\n",
    "                      y='life_post_consumer')"
   ]
  },
  {
   "cell_type": "code",
   "execution_count": 10,
   "metadata": {},
   "outputs": [
    {
     "data": {
      "text/plain": [
       "<matplotlib.axes._subplots.AxesSubplot at 0x7fa3bb3adad0>"
      ]
     },
     "execution_count": 10,
     "metadata": {},
     "output_type": "execute_result"
    },
    {
     "data": {
      "image/png": "[encoded data removed]",
      "text/plain": [
       "<Figure size 432x288 with 1 Axes>"
      ]
     },
     "metadata": {
      "needs_background": "light"
     },
     "output_type": "display_data"
    }
   ],
   "source": [
    "df.plot.scatter(x='share',\n",
    "                      y='life_post_consumer')"
   ]
  },
  {
   "cell_type": "markdown",
   "metadata": {},
   "source": [
    "可以看出大致上，大部分變數和y是成正相關，但也可以看出少數資料點屬於outlier，而這些極端值可能對於線性迴歸產生影響。"
   ]
  },
  {
   "cell_type": "markdown",
   "metadata": {},
   "source": [
    "## Q2"
   ]
  },
  {
   "cell_type": "markdown",
   "metadata": {},
   "source": [
    "#### RMSE"
   ]
  },
  {
   "cell_type": "code",
   "execution_count": 11,
   "metadata": {},
   "outputs": [],
   "source": [
    "def rmse(p, gt):\n",
    "    return np.sqrt(((p - gt)**2).mean())"
   ]
  },
  {
   "cell_type": "markdown",
   "metadata": {},
   "source": [
    "直接使用 training data 的 y mean 作為預測結果"
   ]
  },
  {
   "cell_type": "code",
   "execution_count": 12,
   "metadata": {},
   "outputs": [
    {
     "name": "stdout",
     "output_type": "stream",
     "text": [
      "predict: 810.34\n"
     ]
    }
   ],
   "source": [
    "pred = pd.read_csv('data/df1_train.csv')['life_post_consumer'].mean()\n",
    "print(f'predict: {pred}')"
   ]
  },
  {
   "cell_type": "markdown",
   "metadata": {},
   "source": [
    "讀取 test data"
   ]
  },
  {
   "cell_type": "code",
   "execution_count": 13,
   "metadata": {},
   "outputs": [],
   "source": [
    "test_y = pd.read_csv('data/df1_test1y.csv')['life_post_consumer'].to_numpy()"
   ]
  },
  {
   "cell_type": "code",
   "execution_count": 14,
   "metadata": {},
   "outputs": [
    {
     "name": "stdout",
     "output_type": "stream",
     "text": [
      "RMSE: 928.8095109332162\n"
     ]
    }
   ],
   "source": [
    "error = rmse(np.array([pred]*50), test_y)\n",
    "print(f'RMSE: {error}')"
   ]
  },
  {
   "cell_type": "code",
   "execution_count": 15,
   "metadata": {},
   "outputs": [
    {
     "name": "stdout",
     "output_type": "stream",
     "text": [
      "predict: [810.34 810.34 810.34 810.34 810.34 810.34 810.34 810.34 810.34 810.34\n",
      " 810.34 810.34 810.34 810.34 810.34 810.34 810.34 810.34 810.34 810.34]\n",
      "gt: [1183  189 2327   76  354  713  204  288  555  586  446  884  524  672\n",
      "   23  570 1361 5934 2319 1633]\n"
     ]
    }
   ],
   "source": [
    "print('predict:', np.array([pred]*20))\n",
    "print('gt:', test_y[:20])"
   ]
  },
  {
   "cell_type": "markdown",
   "metadata": {},
   "source": [
    "## Q3"
   ]
  },
  {
   "cell_type": "markdown",
   "metadata": {},
   "source": [
    "讀取 training data & test data"
   ]
  },
  {
   "cell_type": "code",
   "execution_count": 16,
   "metadata": {},
   "outputs": [],
   "source": [
    "train = pd.read_csv('data/df1_train.csv')\n",
    "train_x = train.drop(columns=['life_post_consumer']).to_numpy()\n",
    "train_y = train['life_post_consumer'].to_numpy()\n",
    "test_x = pd.read_csv('data/df1_test1.csv').to_numpy()\n",
    "test_y = pd.read_csv('data/df1_test1y.csv')['life_post_consumer'].to_numpy()"
   ]
  },
  {
   "cell_type": "markdown",
   "metadata": {},
   "source": [
    "直接把 raw data 丟進去 train"
   ]
  },
  {
   "cell_type": "code",
   "execution_count": 17,
   "metadata": {},
   "outputs": [],
   "source": [
    "reg = LinearRegression().fit(train_x, train_y)\n",
    "pred = reg.predict(test_x)"
   ]
  },
  {
   "cell_type": "markdown",
   "metadata": {},
   "source": [
    "計算 RMSE 並印出結果"
   ]
  },
  {
   "cell_type": "code",
   "execution_count": 18,
   "metadata": {},
   "outputs": [
    {
     "name": "stdout",
     "output_type": "stream",
     "text": [
      "RMSE: 692.2891271383396\n"
     ]
    }
   ],
   "source": [
    "error = rmse(pred, test_y)\n",
    "print(f'RMSE: {error}')"
   ]
  },
  {
   "cell_type": "code",
   "execution_count": 19,
   "metadata": {},
   "outputs": [
    {
     "name": "stdout",
     "output_type": "stream",
     "text": [
      "predict: [ 781.57991507  315.92043112 2279.0848524  -136.34286373  302.35624062\n",
      "  462.42402368  321.67770824  504.52244767  505.89547104  488.36700578\n",
      "  392.61423519  388.9184671   804.87527509  634.32364432  176.31765618\n",
      "  645.72913809 1983.53858871 3144.39710045 4060.61071219 4288.22308101]\n",
      "gt: [1183  189 2327   76  354  713  204  288  555  586  446  884  524  672\n",
      "   23  570 1361 5934 2319 1633]\n"
     ]
    }
   ],
   "source": [
    "print('predict:', pred[:20])\n",
    "print('gt:', test_y[:20])"
   ]
  },
  {
   "cell_type": "markdown",
   "metadata": {},
   "source": [
    "## Q4"
   ]
  },
  {
   "cell_type": "markdown",
   "metadata": {},
   "source": [
    "讀取 training data & test data"
   ]
  },
  {
   "cell_type": "code",
   "execution_count": 20,
   "metadata": {},
   "outputs": [],
   "source": [
    "train = pd.read_csv('data/df1_train.csv')\n",
    "train_x = train.drop(columns=['life_post_consumer']).to_numpy()\n",
    "train_y = train['life_post_consumer'].to_numpy()\n",
    "test_x = pd.read_csv('data/df1_test1.csv').to_numpy()\n",
    "test_y = pd.read_csv('data/df1_test1y.csv')['life_post_consumer'].to_numpy()"
   ]
  },
  {
   "cell_type": "markdown",
   "metadata": {},
   "source": [
    "對 y data 做 de-mean"
   ]
  },
  {
   "cell_type": "code",
   "execution_count": 21,
   "metadata": {},
   "outputs": [],
   "source": [
    "y_mean = train_y.mean()\n",
    "train_y = train_y - y_mean"
   ]
  },
  {
   "cell_type": "code",
   "execution_count": 22,
   "metadata": {},
   "outputs": [],
   "source": [
    "reg = LinearRegression().fit(train_x, train_y)\n",
    "pred = reg.predict(test_x)\n",
    "pred = pred + y_mean"
   ]
  },
  {
   "cell_type": "markdown",
   "metadata": {},
   "source": [
    "計算 RMSE 並印出結果"
   ]
  },
  {
   "cell_type": "code",
   "execution_count": 23,
   "metadata": {},
   "outputs": [
    {
     "name": "stdout",
     "output_type": "stream",
     "text": [
      "RMSE: 692.2891271383959\n"
     ]
    }
   ],
   "source": [
    "error = rmse(pred, test_y)\n",
    "print(f'RMSE: {error}')"
   ]
  },
  {
   "cell_type": "code",
   "execution_count": 24,
   "metadata": {},
   "outputs": [
    {
     "name": "stdout",
     "output_type": "stream",
     "text": [
      "predict: [ 781.57991507  315.92043112 2279.0848524  -136.34286373  302.35624062\n",
      "  462.42402368  321.67770824  504.52244767  505.89547104  488.36700578\n",
      "  392.61423519  388.9184671   804.87527509  634.32364432  176.31765618\n",
      "  645.72913809 1983.53858871 3144.39710045 4060.61071219 4288.22308101]\n",
      "gt: [1183  189 2327   76  354  713  204  288  555  586  446  884  524  672\n",
      "   23  570 1361 5934 2319 1633]\n"
     ]
    }
   ],
   "source": [
    "print('predict:', pred[:20])\n",
    "print('gt:', test_y[:20])"
   ]
  },
  {
   "cell_type": "markdown",
   "metadata": {},
   "source": [
    "## Q5"
   ]
  },
  {
   "cell_type": "markdown",
   "metadata": {},
   "source": [
    "讀取 training data & test data"
   ]
  },
  {
   "cell_type": "code",
   "execution_count": 25,
   "metadata": {},
   "outputs": [],
   "source": [
    "train = pd.read_csv('data/df1_train.csv')\n",
    "train_x = train.drop(columns=['life_post_consumer']).to_numpy()\n",
    "train_y = train['life_post_consumer'].to_numpy()\n",
    "test_x = pd.read_csv('data/df1_test1.csv').to_numpy()\n",
    "test_y = pd.read_csv('data/df1_test1y.csv')['life_post_consumer'].to_numpy()"
   ]
  },
  {
   "cell_type": "markdown",
   "metadata": {},
   "source": [
    "對 y data 做 de-mean"
   ]
  },
  {
   "cell_type": "code",
   "execution_count": 26,
   "metadata": {},
   "outputs": [],
   "source": [
    "y_mean = train_y.mean()\n",
    "train_y = train_y - y_mean"
   ]
  },
  {
   "cell_type": "markdown",
   "metadata": {},
   "source": [
    "對所有 training & test data 的 x 做標準化"
   ]
  },
  {
   "cell_type": "code",
   "execution_count": 27,
   "metadata": {},
   "outputs": [],
   "source": [
    "mean_train, std_train = train_x.mean(axis=0), train_x.std(axis=0)\n",
    "train_x = ((train_x - mean_train) / std_train)\n",
    "test_x = ((test_x - mean_train) / std_train)"
   ]
  },
  {
   "cell_type": "code",
   "execution_count": 28,
   "metadata": {},
   "outputs": [],
   "source": [
    "reg = LinearRegression().fit(train_x, train_y)\n",
    "pred = reg.predict(test_x)\n",
    "pred = pred + y_mean"
   ]
  },
  {
   "cell_type": "markdown",
   "metadata": {},
   "source": [
    "計算 RMSE 並印出結果"
   ]
  },
  {
   "cell_type": "code",
   "execution_count": 29,
   "metadata": {},
   "outputs": [
    {
     "name": "stdout",
     "output_type": "stream",
     "text": [
      "RMSE: 692.2891271372001\n"
     ]
    }
   ],
   "source": [
    "error = rmse(pred, test_y)\n",
    "print(f'RMSE: {error}')"
   ]
  },
  {
   "cell_type": "code",
   "execution_count": 30,
   "metadata": {},
   "outputs": [
    {
     "name": "stdout",
     "output_type": "stream",
     "text": [
      "predict: [ 781.57991507  315.92043112 2279.0848524  -136.34286373  302.35624062\n",
      "  462.42402368  321.67770824  504.52244767  505.89547104  488.36700578\n",
      "  392.61423519  388.9184671   804.87527509  634.32364432  176.31765618\n",
      "  645.72913809 1983.53858871 3144.39710045 4060.61071219 4288.223081  ]\n",
      "gt: [1183  189 2327   76  354  713  204  288  555  586  446  884  524  672\n",
      "   23  570 1361 5934 2319 1633]\n"
     ]
    }
   ],
   "source": [
    "print('predict:', pred[:20])\n",
    "print('gt:', test_y[:20])"
   ]
  },
  {
   "cell_type": "markdown",
   "metadata": {},
   "source": [
    "## Q6"
   ]
  },
  {
   "cell_type": "markdown",
   "metadata": {},
   "source": [
    "讀取 training data & test data"
   ]
  },
  {
   "cell_type": "code",
   "execution_count": 31,
   "metadata": {},
   "outputs": [],
   "source": [
    "train = pd.read_csv('data/df1_train.csv')\n",
    "train_x = train.drop(columns=['life_post_consumer']).to_numpy()\n",
    "train_y = train['life_post_consumer'].to_numpy()\n",
    "test_x = pd.read_csv('data/df1_test1.csv').to_numpy()\n",
    "test_y = pd.read_csv('data/df1_test1y.csv')['life_post_consumer'].to_numpy()"
   ]
  },
  {
   "cell_type": "markdown",
   "metadata": {},
   "source": [
    "待測試的 alpha"
   ]
  },
  {
   "cell_type": "code",
   "execution_count": 32,
   "metadata": {},
   "outputs": [],
   "source": [
    "alpha = [0.01, 0.1, 1, 5, 10, 20, 50, 100, 500, 1000]"
   ]
  },
  {
   "cell_type": "markdown",
   "metadata": {},
   "source": [
    "直接把 raw data 丟進去 train"
   ]
  },
  {
   "cell_type": "code",
   "execution_count": 33,
   "metadata": {},
   "outputs": [],
   "source": [
    "error = []\n",
    "for a in alpha:\n",
    "    reg = Ridge(alpha=a).fit(train_x, train_y)\n",
    "    pred = reg.predict(test_x)\n",
    "    error.append(rmse(pred, test_y))"
   ]
  },
  {
   "cell_type": "code",
   "execution_count": 34,
   "metadata": {},
   "outputs": [
    {
     "data": {
      "image/png": "[encoded data removed]",
      "text/plain": [
       "<Figure size 432x288 with 1 Axes>"
      ]
     },
     "metadata": {
      "needs_background": "light"
     },
     "output_type": "display_data"
    }
   ],
   "source": [
    "plt.scatter(alpha, error)\n",
    "plt.ylabel('RMSE')\n",
    "plt.xlabel('alpha')\n",
    "plt.show()"
   ]
  },
  {
   "cell_type": "code",
   "execution_count": 35,
   "metadata": {},
   "outputs": [
    {
     "name": "stdout",
     "output_type": "stream",
     "text": [
      "我們可以發現在 alpha = 10 時，有最小的rmse: 660.5612900111676。\n"
     ]
    }
   ],
   "source": [
    "print(f'我們可以發現在 alpha = {alpha[error.index(min(error))]} 時，有最小的rmse: {min(error)}。')"
   ]
  },
  {
   "cell_type": "code",
   "execution_count": 36,
   "metadata": {},
   "outputs": [
    {
     "name": "stdout",
     "output_type": "stream",
     "text": [
      "predict: [1068.33362385  229.7553192  2008.55889192 -102.8748995   541.45769947\n",
      "  606.45925756  414.98279829  602.81051442  500.18438508  492.30663558\n",
      "  508.37649961  409.13002153  730.46768043  561.0603282   294.45089723\n",
      "  602.48286746 1632.18271503 2698.88281782 3841.63152846 3892.40090903]\n",
      "gt: [1183  189 2327   76  354  713  204  288  555  586  446  884  524  672\n",
      "   23  570 1361 5934 2319 1633]\n"
     ]
    }
   ],
   "source": [
    "reg = Ridge(alpha=alpha[error.index(min(error))]).fit(train_x, train_y)\n",
    "pred = reg.predict(test_x)\n",
    "print('predict:', pred[:20])\n",
    "print('gt:', test_y[:20])"
   ]
  },
  {
   "cell_type": "markdown",
   "metadata": {},
   "source": [
    "## Q7"
   ]
  },
  {
   "cell_type": "markdown",
   "metadata": {},
   "source": [
    "讀取 training data & test data"
   ]
  },
  {
   "cell_type": "code",
   "execution_count": 37,
   "metadata": {},
   "outputs": [],
   "source": [
    "train = pd.read_csv('data/df1_train.csv')\n",
    "train_x = train.drop(columns=['life_post_consumer']).to_numpy().astype(float)\n",
    "train_y = train['life_post_consumer'].to_numpy()\n",
    "test_x = pd.read_csv('data/df1_test1.csv').to_numpy().astype(float)\n",
    "test_y = pd.read_csv('data/df1_test1y.csv')['life_post_consumer'].to_numpy()"
   ]
  },
  {
   "cell_type": "markdown",
   "metadata": {},
   "source": [
    "對 y data 做 de-mean"
   ]
  },
  {
   "cell_type": "code",
   "execution_count": 38,
   "metadata": {},
   "outputs": [],
   "source": [
    "y_mean = train_y.mean()\n",
    "train_y = train_y - y_mean"
   ]
  },
  {
   "cell_type": "markdown",
   "metadata": {},
   "source": [
    "只對所有 training & test data 的 x_continue 做標準化"
   ]
  },
  {
   "cell_type": "code",
   "execution_count": 39,
   "metadata": {},
   "outputs": [],
   "source": [
    "for i in [0 ,2, 3, 4, 5, 6, 7]:\n",
    "    mean_train, std_train = train_x[:,i].mean(), train_x[:,i].std()\n",
    "    train_x[:,i] = (train_x[:,i]-mean_train)/std_train\n",
    "    test_x[:,i] = (test_x[:,i] - mean_train) / std_train"
   ]
  },
  {
   "cell_type": "markdown",
   "metadata": {},
   "source": [
    "待測試的 alpha"
   ]
  },
  {
   "cell_type": "code",
   "execution_count": 40,
   "metadata": {},
   "outputs": [],
   "source": [
    "alpha = [0.01, 0.1, 1, 5, 10, 20, 50, 100, 500, 1000]"
   ]
  },
  {
   "cell_type": "code",
   "execution_count": 41,
   "metadata": {},
   "outputs": [],
   "source": [
    "error = []\n",
    "for a in alpha:\n",
    "    reg = Ridge(alpha=a).fit(train_x, train_y)\n",
    "    pred = reg.predict(test_x) + y_mean\n",
    "    error.append(rmse(pred, test_y))"
   ]
  },
  {
   "cell_type": "code",
   "execution_count": 42,
   "metadata": {},
   "outputs": [
    {
     "data": {
      "image/png": "[encoded data removed]",
      "text/plain": [
       "<Figure size 432x288 with 1 Axes>"
      ]
     },
     "metadata": {
      "needs_background": "light"
     },
     "output_type": "display_data"
    }
   ],
   "source": [
    "plt.scatter(alpha, error)\n",
    "plt.ylabel('RMSE')\n",
    "plt.xlabel('alpha')\n",
    "plt.show()"
   ]
  },
  {
   "cell_type": "code",
   "execution_count": 43,
   "metadata": {},
   "outputs": [
    {
     "name": "stdout",
     "output_type": "stream",
     "text": [
      "我們可以發現在 alpha = 20 時，有最小的rmse: 645.5168123938736。\n"
     ]
    }
   ],
   "source": [
    "print(f'我們可以發現在 alpha = {alpha[error.index(min(error))]} 時，有最小的rmse: {min(error)}。')"
   ]
  },
  {
   "cell_type": "code",
   "execution_count": 44,
   "metadata": {},
   "outputs": [
    {
     "name": "stdout",
     "output_type": "stream",
     "text": [
      "predict: [1142.26954234  254.15701492 1834.02488944   15.7181687   599.76366292\n",
      "  635.94038984  427.85644416  603.66205989  514.52378787  580.00106007\n",
      "  544.34176021  477.18442084  801.54554542  557.45287238  396.27886548\n",
      "  615.15152412 1474.67417376 2504.86437273 3524.85964481 3438.40343713]\n",
      "gt: [1183  189 2327   76  354  713  204  288  555  586  446  884  524  672\n",
      "   23  570 1361 5934 2319 1633]\n"
     ]
    }
   ],
   "source": [
    "reg = Ridge(alpha=alpha[error.index(min(error))]).fit(train_x, train_y)\n",
    "pred = reg.predict(test_x) + y_mean\n",
    "print('predict:', pred[:20])\n",
    "print('gt:', test_y[:20])"
   ]
  },
  {
   "cell_type": "markdown",
   "metadata": {},
   "source": [
    "## Q8"
   ]
  },
  {
   "cell_type": "markdown",
   "metadata": {},
   "source": [
    "讀取 training data & test data"
   ]
  },
  {
   "cell_type": "code",
   "execution_count": 45,
   "metadata": {},
   "outputs": [],
   "source": [
    "train = pd.read_csv('data/df1_train.csv')\n",
    "train_x = train.drop(columns=['life_post_consumer']).to_numpy()\n",
    "train_y = train['life_post_consumer'].to_numpy()\n",
    "test_x = pd.read_csv('data/df1_test1.csv').to_numpy()\n",
    "test_y = pd.read_csv('data/df1_test1y.csv')['life_post_consumer'].to_numpy()"
   ]
  },
  {
   "cell_type": "markdown",
   "metadata": {},
   "source": [
    "對 y data 做 de-mean"
   ]
  },
  {
   "cell_type": "code",
   "execution_count": 46,
   "metadata": {},
   "outputs": [],
   "source": [
    "y_mean = train_y.mean()\n",
    "train_y = train_y - y_mean"
   ]
  },
  {
   "cell_type": "code",
   "execution_count": 47,
   "metadata": {},
   "outputs": [],
   "source": [
    "reg = Ridge().fit(train_x, train_y)\n",
    "pred = reg.predict(test_x)\n",
    "pred = pred + y_mean"
   ]
  },
  {
   "cell_type": "markdown",
   "metadata": {},
   "source": [
    "待測試的 alpha"
   ]
  },
  {
   "cell_type": "code",
   "execution_count": 48,
   "metadata": {},
   "outputs": [],
   "source": [
    "alpha = [0.01, 0.1, 1, 5, 10, 20, 50, 100, 500, 1000]"
   ]
  },
  {
   "cell_type": "code",
   "execution_count": 49,
   "metadata": {},
   "outputs": [],
   "source": [
    "error = []\n",
    "for a in alpha:\n",
    "    reg = Ridge(alpha=a).fit(train_x, train_y)\n",
    "    pred = reg.predict(test_x) + y_mean\n",
    "    error.append(rmse(pred, test_y))"
   ]
  },
  {
   "cell_type": "code",
   "execution_count": 50,
   "metadata": {},
   "outputs": [
    {
     "data": {
      "image/png": "[encoded data removed]",
      "text/plain": [
       "<Figure size 432x288 with 1 Axes>"
      ]
     },
     "metadata": {
      "needs_background": "light"
     },
     "output_type": "display_data"
    }
   ],
   "source": [
    "plt.scatter(alpha, error)\n",
    "plt.ylabel('RMSE')\n",
    "plt.xlabel('alpha')\n",
    "plt.show()"
   ]
  },
  {
   "cell_type": "code",
   "execution_count": 51,
   "metadata": {},
   "outputs": [
    {
     "name": "stdout",
     "output_type": "stream",
     "text": [
      "我們可以發現在 alpha = 10 時，有最小的rmse: 660.5612900111674。\n"
     ]
    }
   ],
   "source": [
    "print(f'我們可以發現在 alpha = {alpha[error.index(min(error))]} 時，有最小的rmse: {min(error)}。')"
   ]
  },
  {
   "cell_type": "code",
   "execution_count": 52,
   "metadata": {},
   "outputs": [
    {
     "name": "stdout",
     "output_type": "stream",
     "text": [
      "predict: [1068.33362385  229.7553192  2008.55889192 -102.8748995   541.45769947\n",
      "  606.45925756  414.98279829  602.81051442  500.18438508  492.30663558\n",
      "  508.37649961  409.13002153  730.46768043  561.0603282   294.45089723\n",
      "  602.48286746 1632.18271503 2698.88281782 3841.63152846 3892.40090903]\n",
      "gt: [1183  189 2327   76  354  713  204  288  555  586  446  884  524  672\n",
      "   23  570 1361 5934 2319 1633]\n"
     ]
    }
   ],
   "source": [
    "reg = Ridge(alpha=alpha[error.index(min(error))]).fit(train_x, train_y)\n",
    "pred = reg.predict(test_x) + y_mean\n",
    "print('predict:', pred[:20])\n",
    "print('gt:', test_y[:20])"
   ]
  },
  {
   "cell_type": "markdown",
   "metadata": {},
   "source": [
    "## Q9"
   ]
  },
  {
   "cell_type": "markdown",
   "metadata": {},
   "source": [
    "讀取 training data & test data"
   ]
  },
  {
   "cell_type": "code",
   "execution_count": 53,
   "metadata": {},
   "outputs": [],
   "source": [
    "train = pd.read_csv('data/df1_train.csv')\n",
    "train_x = train.drop(columns=['life_post_consumer']).to_numpy()\n",
    "train_y = train['life_post_consumer'].to_numpy()\n",
    "test_x = pd.read_csv('data/df1_test1.csv').to_numpy()\n",
    "test_y = pd.read_csv('data/df1_test1y.csv')['life_post_consumer'].to_numpy()"
   ]
  },
  {
   "cell_type": "markdown",
   "metadata": {},
   "source": [
    "對 y data 做 de-mean"
   ]
  },
  {
   "cell_type": "code",
   "execution_count": 54,
   "metadata": {},
   "outputs": [],
   "source": [
    "y_mean = train_y.mean()\n",
    "train_y = train_y - y_mean"
   ]
  },
  {
   "cell_type": "markdown",
   "metadata": {},
   "source": [
    "對所有 training & test data 的 x 做標準化"
   ]
  },
  {
   "cell_type": "code",
   "execution_count": 55,
   "metadata": {},
   "outputs": [],
   "source": [
    "mean_train, std_train = train_x.mean(axis=0), train_x.std(axis=0)\n",
    "train_x = ((train_x - mean_train) / std_train)\n",
    "test_x = ((test_x - mean_train) / std_train)"
   ]
  },
  {
   "cell_type": "markdown",
   "metadata": {},
   "source": [
    "待測試的 alpha"
   ]
  },
  {
   "cell_type": "code",
   "execution_count": 56,
   "metadata": {},
   "outputs": [],
   "source": [
    "alpha = [0.01, 0.1, 1, 5, 10, 20, 50, 100, 500, 1000]"
   ]
  },
  {
   "cell_type": "code",
   "execution_count": 57,
   "metadata": {},
   "outputs": [],
   "source": [
    "error = []\n",
    "for a in alpha:\n",
    "    reg = Ridge(alpha=a).fit(train_x, train_y)\n",
    "    pred = reg.predict(test_x) + y_mean\n",
    "    error.append(rmse(pred, test_y))"
   ]
  },
  {
   "cell_type": "code",
   "execution_count": 58,
   "metadata": {},
   "outputs": [
    {
     "data": {
      "image/png": "[encoded data removed]",
      "text/plain": [
       "<Figure size 432x288 with 1 Axes>"
      ]
     },
     "metadata": {
      "needs_background": "light"
     },
     "output_type": "display_data"
    }
   ],
   "source": [
    "plt.scatter(alpha, error)\n",
    "plt.ylabel('RMSE')\n",
    "plt.xlabel('alpha')\n",
    "plt.show()"
   ]
  },
  {
   "cell_type": "code",
   "execution_count": 59,
   "metadata": {},
   "outputs": [
    {
     "name": "stdout",
     "output_type": "stream",
     "text": [
      "我們可以發現在 alpha = 100 時，有最小的rmse: 588.793465752767。\n"
     ]
    }
   ],
   "source": [
    "print(f'我們可以發現在 alpha = {alpha[error.index(min(error))]} 時，有最小的rmse: {min(error)}。')"
   ]
  },
  {
   "cell_type": "code",
   "execution_count": 60,
   "metadata": {},
   "outputs": [
    {
     "name": "stdout",
     "output_type": "stream",
     "text": [
      "predict: [1040.50012261  278.4650498  1997.72446427  -21.14036502  554.2152571\n",
      "  602.8406419   337.52346959  599.43578526  470.29370416  500.7241404\n",
      "  511.14861912  387.7435535   700.08957652  532.22280969  255.18311778\n",
      "  653.3563783  1728.16919169 2775.00271095 3174.79225189 3141.85797609]\n",
      "gt: [1183  189 2327   76  354  713  204  288  555  586  446  884  524  672\n",
      "   23  570 1361 5934 2319 1633]\n"
     ]
    }
   ],
   "source": [
    "reg = Ridge(alpha=alpha[error.index(min(error))]).fit(train_x, train_y)\n",
    "pred = reg.predict(test_x) + y_mean\n",
    "print('predict:', pred[:20])\n",
    "print('gt:', test_y[:20])"
   ]
  },
  {
   "cell_type": "markdown",
   "metadata": {},
   "source": [
    "## Q10"
   ]
  },
  {
   "cell_type": "markdown",
   "metadata": {},
   "source": [
    "讀取 training data & test data"
   ]
  },
  {
   "cell_type": "code",
   "execution_count": 61,
   "metadata": {},
   "outputs": [],
   "source": [
    "train = pd.read_csv('data/df1_train.csv')\n",
    "train_x = train.drop(columns=['life_post_consumer']).to_numpy().astype(float)\n",
    "train_y = train['life_post_consumer'].to_numpy()\n",
    "test_x = pd.read_csv('data/df1_test1.csv').to_numpy().astype(float)\n",
    "test_y = pd.read_csv('data/df1_test1y.csv')['life_post_consumer'].to_numpy()"
   ]
  },
  {
   "cell_type": "markdown",
   "metadata": {},
   "source": [
    "對 y data 做 de-mean"
   ]
  },
  {
   "cell_type": "code",
   "execution_count": 62,
   "metadata": {},
   "outputs": [],
   "source": [
    "y_mean = train_y.mean()\n",
    "train_y = train_y - y_mean"
   ]
  },
  {
   "cell_type": "markdown",
   "metadata": {},
   "source": [
    "只對所有 training & test data 的 x_continue 做標準化"
   ]
  },
  {
   "cell_type": "code",
   "execution_count": 63,
   "metadata": {},
   "outputs": [],
   "source": [
    "for i in [0 ,2, 3, 4, 5, 6, 7]:\n",
    "    mean_train, std_train = train_x[:,i].mean(), train_x[:,i].std()\n",
    "    train_x[:,i] = (train_x[:,i]-mean_train)/std_train\n",
    "    test_x[:,i] = (test_x[:,i] - mean_train) / std_train"
   ]
  },
  {
   "cell_type": "markdown",
   "metadata": {},
   "source": [
    "待測試的 alpha"
   ]
  },
  {
   "cell_type": "code",
   "execution_count": 64,
   "metadata": {},
   "outputs": [],
   "source": [
    "alpha = [0.01, 0.1, 1, 5, 10, 20, 50, 100, 500, 1000]"
   ]
  },
  {
   "cell_type": "code",
   "execution_count": 65,
   "metadata": {},
   "outputs": [
    {
     "name": "stderr",
     "output_type": "stream",
     "text": [
      "/home/white123/miniconda3/envs/sl/lib/python3.7/site-packages/sklearn/linear_model/_coordinate_descent.py:476: ConvergenceWarning: Objective did not converge. You might want to increase the number of iterations. Duality gap: 47975917.14865048, tolerance: 32249.892375999996\n",
      "  positive)\n",
      "/home/white123/miniconda3/envs/sl/lib/python3.7/site-packages/sklearn/linear_model/_coordinate_descent.py:476: ConvergenceWarning: Objective did not converge. You might want to increase the number of iterations. Duality gap: 4456630.676001415, tolerance: 32249.892375999996\n",
      "  positive)\n"
     ]
    }
   ],
   "source": [
    "error = []\n",
    "for a in alpha:\n",
    "    reg = Lasso(alpha=a).fit(train_x, train_y)\n",
    "    pred = reg.predict(test_x) + y_mean\n",
    "    error.append(rmse(pred, test_y))"
   ]
  },
  {
   "cell_type": "code",
   "execution_count": 66,
   "metadata": {},
   "outputs": [
    {
     "data": {
      "image/png": "[encoded data removed]",
      "text/plain": [
       "<Figure size 432x288 with 1 Axes>"
      ]
     },
     "metadata": {
      "needs_background": "light"
     },
     "output_type": "display_data"
    }
   ],
   "source": [
    "plt.scatter(alpha, error)\n",
    "plt.ylabel('RMSE')\n",
    "plt.xlabel('alpha')\n",
    "plt.show()"
   ]
  },
  {
   "cell_type": "code",
   "execution_count": 67,
   "metadata": {},
   "outputs": [
    {
     "name": "stdout",
     "output_type": "stream",
     "text": [
      "我們可以發現在 alpha = 10 時，有最小的rmse: 643.3838482161636。\n"
     ]
    }
   ],
   "source": [
    "print(f'我們可以發現在 alpha = {alpha[error.index(min(error))]} 時，有最小的rmse: {min(error)}。')"
   ]
  },
  {
   "cell_type": "code",
   "execution_count": 68,
   "metadata": {},
   "outputs": [
    {
     "name": "stdout",
     "output_type": "stream",
     "text": [
      "predict: [1241.59858493  287.88876062 2119.90674732  -16.29718326  449.10115061\n",
      "  711.14559108  398.05917415  460.15124248  645.44299753  591.43645426\n",
      "  429.966193    461.48315207  899.80928753  571.86640621  352.86521968\n",
      "  548.08532475 1741.01511056 2712.05439167 3681.45942744 3645.11403307]\n",
      "gt: [1183  189 2327   76  354  713  204  288  555  586  446  884  524  672\n",
      "   23  570 1361 5934 2319 1633]\n"
     ]
    }
   ],
   "source": [
    "reg = Lasso(alpha=alpha[error.index(min(error))]).fit(train_x, train_y)\n",
    "pred = reg.predict(test_x) + y_mean\n",
    "print('predict:', pred[:20])\n",
    "print('gt:', test_y[:20])"
   ]
  },
  {
   "cell_type": "markdown",
   "metadata": {},
   "source": [
    "## Q11"
   ]
  },
  {
   "cell_type": "markdown",
   "metadata": {},
   "source": [
    "從上面的結果可以發現，最好的結果出現在使用 ridge regression 時，並且對所有 x 變數進行標準化。另外，我們也可以發現，對 y 做 de-mean 不太會影響到結果。因此在做 regression 時，最好對 x 變數進行標準化，而且將 model 套用 regularization 通常會得到較好的 performance。"
   ]
  },
  {
   "cell_type": "code",
   "execution_count": null,
   "metadata": {},
   "outputs": [],
   "source": []
  }
 ],
 "metadata": {
  "kernelspec": {
   "display_name": "Python 3",
   "language": "python",
   "name": "python3"
  },
  "language_info": {
   "codemirror_mode": {
    "name": "ipython",
    "version": 3
   },
   "file_extension": ".py",
   "mimetype": "text/x-python",
   "name": "python",
   "nbconvert_exporter": "python",
   "pygments_lexer": "ipython3",
   "version": "3.7.6"
  }
 },
 "nbformat": 4,
 "nbformat_minor": 4
}
