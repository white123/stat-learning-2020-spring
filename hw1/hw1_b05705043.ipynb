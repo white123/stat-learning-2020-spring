{
 "cells": [
  {
   "cell_type": "markdown",
   "metadata": {},
   "source": [
    "# 資管四 唐瑋廷 B05705043 HW1"
   ]
  },
  {
   "cell_type": "code",
   "execution_count": 1,
   "metadata": {},
   "outputs": [],
   "source": [
    "import numpy as np\n",
    "import pickle\n",
    "import operator\n",
    "from math import modf\n",
    "from multiprocessing import Pool"
   ]
  },
  {
   "cell_type": "markdown",
   "metadata": {},
   "source": [
    "## Q1.1"
   ]
  },
  {
   "cell_type": "markdown",
   "metadata": {},
   "source": [
    "### Build the class"
   ]
  },
  {
   "cell_type": "code",
   "execution_count": 2,
   "metadata": {},
   "outputs": [],
   "source": [
    "class myknn_regressor():\n",
    "    def __init__(self, k, mode='equal_weight'):\n",
    "        \n",
    "        self.k = k\n",
    "        self.mode = mode\n",
    "       \n",
    "    def fit(self, x, y):\n",
    "        \n",
    "        self.x = x\n",
    "        self.y = y\n",
    "    \n",
    "    def predict(self, x):\n",
    "        \n",
    "        pool = Pool()\n",
    "        ret = pool.map(self._predict_one, list(x)) \n",
    "        pool.close()\n",
    "        pool.join()\n",
    "        \n",
    "        return np.array(ret)\n",
    "    \n",
    "    def _predict_one(self, x_i):\n",
    "        dis = self._cos_sim(x_i)\n",
    "        dis = zip(dis, self.y)\n",
    "        dis = sorted(dis, key=operator.itemgetter(0), reverse=True)[:self.k]\n",
    "        year = [d[1] for d in dis]\n",
    "\n",
    "        if self.mode == 'remove_outliers' and self.k >= 10:\n",
    "            year = sorted(year)\n",
    "            q1, q3 = self._quantile(year, 0.25), self._quantile(year, 0.75)\n",
    "            iqr = q3 - q1\n",
    "\n",
    "            year = [y for y in year if y<=q3+1.5*iqr and y>=q1-1.5*iqr]\n",
    "\n",
    "        return (sum(year) / len(year))\n",
    "    \n",
    "    def _cos_sim(self, x):\n",
    "        \n",
    "        dis_list = []\n",
    "        for x_i in self.x:\n",
    "             dis_list.append(np.dot(x, x_i) / (np.linalg.norm(x) * np.linalg.norm(x_i)))\n",
    "        \n",
    "        return np.array(dis_list)\n",
    "    \n",
    "    def _quantile(self, n, p):\n",
    "    \n",
    "        pos = 1 + (len(n)-1)*p\n",
    "        (pos_dec, pos_int) = modf(pos)\n",
    "        pos_int = int(pos_int)\n",
    "        quan = n[pos_int - 1] + (n[pos_int] - n[pos_int - 1]) * pos_dec\n",
    "        \n",
    "        return quan\n",
    "    \n",
    "    "
   ]
  },
  {
   "cell_type": "markdown",
   "metadata": {},
   "source": [
    "#### I use cosine similarity to calculate the distant of two points. A larger cos_sim means that two points are more similar. \n",
    "#### In the function \"predict()\", I use multiprocessing to accelerate the process."
   ]
  },
  {
   "cell_type": "markdown",
   "metadata": {},
   "source": [
    "## Q1.2"
   ]
  },
  {
   "cell_type": "markdown",
   "metadata": {},
   "source": [
    "#### Load the data & standardizing"
   ]
  },
  {
   "cell_type": "code",
   "execution_count": 3,
   "metadata": {},
   "outputs": [],
   "source": [
    "with open('msd_data1.pickle', 'rb') as f:\n",
    "    data = pickle.load(f)\n",
    "    \n",
    "X_train, Y_train, X_test, Y_test = data['X_train'], data['Y_train'], data['X_test'], data['Y_test']\n",
    "\n",
    "mean_train, std_train = X_train.mean(axis=0), X_train.std(axis=0)\n",
    "X_train = ((X_train - mean_train) / std_train)\n",
    "mean_test, std_test = X_test.mean(axis=0), X_test.std(axis=0)\n",
    "X_test = ((X_test - mean_test) / std_test)"
   ]
  },
  {
   "cell_type": "markdown",
   "metadata": {},
   "source": [
    "#### RMSE"
   ]
  },
  {
   "cell_type": "code",
   "execution_count": 4,
   "metadata": {},
   "outputs": [],
   "source": [
    "def rmse(p, gt):\n",
    "    return np.sqrt(((p - gt)**2).mean())"
   ]
  },
  {
   "cell_type": "markdown",
   "metadata": {},
   "source": [
    "- Create a knn regressor with k = 20 & equal weight mode\n",
    "- Train the regressor using the training data\n",
    "- Predict the first 20 data of the test data\n",
    "- Present the prediction, comparing to the ground truth, and calculate the RMSE"
   ]
  },
  {
   "cell_type": "code",
   "execution_count": 5,
   "metadata": {},
   "outputs": [
    {
     "name": "stdout",
     "output_type": "stream",
     "text": [
      "prediction: [1997.85 1999.6  1999.75 1989.1  1999.3  2000.05 1996.7  1987.3  2002.15\n",
      " 2004.7  2002.05 2001.6  1996.6  1997.9  1991.5  1996.35 1992.2  2001.65\n",
      " 2002.55 1999.8 ]\n",
      "ground truth: [1998. 1988. 2005. 1982. 1990. 1995. 2005. 1994. 2005. 2009. 2007. 1996.\n",
      " 2006. 2005. 1994. 1992. 2000. 2007. 2003. 2003.]\n",
      "RMSE: 6.263585235310493\n"
     ]
    }
   ],
   "source": [
    "myknn = myknn_regressor(20, 'equal_weight')\n",
    "myknn.fit(X_train, Y_train)\n",
    "pred = myknn.predict(X_test[:20])\n",
    "print('prediction:', pred)\n",
    "print('ground truth:', Y_test[:20])\n",
    "print(\"RMSE:\", rmse(pred, Y_test[:20]))"
   ]
  },
  {
   "cell_type": "markdown",
   "metadata": {},
   "source": [
    "## Q1.3"
   ]
  },
  {
   "cell_type": "markdown",
   "metadata": {},
   "source": [
    "#### Like what we do in Q1.2, only changing the mode from 'equal_weight' to 'remove_outlieres'"
   ]
  },
  {
   "cell_type": "code",
   "execution_count": 6,
   "metadata": {},
   "outputs": [
    {
     "name": "stdout",
     "output_type": "stream",
     "text": [
      "prediction: [1999.36842105 1999.6        2000.89473684 1989.1        2000.57894737\n",
      " 2001.36842105 1998.05263158 1987.3        2004.9375     2005.31578947\n",
      " 2003.15789474 2003.77777778 1998.15789474 1999.21052632 1995.22222222\n",
      " 1996.35       1992.2        2005.22222222 2004.5        1999.8       ]\n",
      "ground truth: [1998. 1988. 2005. 1982. 1990. 1995. 2005. 1994. 2005. 2009. 2007. 1996.\n",
      " 2006. 2005. 1994. 1992. 2000. 2007. 2003. 2003.]\n",
      "RMSE: 6.041849711927147\n"
     ]
    }
   ],
   "source": [
    "myknn = myknn_regressor(20, 'remove_outliers')\n",
    "myknn.fit(X_train, Y_train)\n",
    "pred = myknn.predict(X_test[:20])\n",
    "print('prediction:', pred)\n",
    "print('ground truth:', Y_test[:20])\n",
    "print(\"RMSE:\", rmse(pred, Y_test[:20]))"
   ]
  },
  {
   "cell_type": "markdown",
   "metadata": {},
   "source": [
    "#### When we remove the outliers, the RMSE of the first 20 test data has slightly decreased."
   ]
  },
  {
   "cell_type": "markdown",
   "metadata": {},
   "source": [
    "## Q2"
   ]
  },
  {
   "cell_type": "code",
   "execution_count": 7,
   "metadata": {},
   "outputs": [],
   "source": [
    "from sklearn.neighbors import KNeighborsRegressor\n",
    "k_list = [1,2,3,4,5,10,15,20,25,30,35,40,45,50,55,60,80,100,120,140,160,180,200]"
   ]
  },
  {
   "cell_type": "markdown",
   "metadata": {},
   "source": [
    "#### Load the data & standardizing"
   ]
  },
  {
   "cell_type": "code",
   "execution_count": 8,
   "metadata": {},
   "outputs": [],
   "source": [
    "with open('msd_data1.pickle', 'rb') as f:\n",
    "    data = pickle.load(f)\n",
    "    \n",
    "X_train, Y_train, X_test, Y_test = data['X_train'], data['Y_train'], data['X_test'], data['Y_test']\n",
    "\n",
    "mean_train, std_train = X_train.mean(axis=0), X_train.std(axis=0)\n",
    "X_train = ((X_train - mean_train) / std_train)\n",
    "mean_test, std_test = X_test.mean(axis=0), X_test.std(axis=0)\n",
    "X_test = ((X_test - mean_test) / std_test)"
   ]
  },
  {
   "cell_type": "markdown",
   "metadata": {},
   "source": [
    "#### Calculate the RMSE of eack selected value k."
   ]
  },
  {
   "cell_type": "code",
   "execution_count": 9,
   "metadata": {},
   "outputs": [],
   "source": [
    "pred_1 = []\n",
    "for k in k_list:\n",
    "    knn = KNeighborsRegressor(n_neighbors=k)\n",
    "    knn.fit(X_train, Y_train)\n",
    "    pred_1.append(rmse(knn.predict(X_test), Y_test))"
   ]
  },
  {
   "cell_type": "markdown",
   "metadata": {},
   "source": [
    "#### Repead again without standardizing"
   ]
  },
  {
   "cell_type": "code",
   "execution_count": 10,
   "metadata": {},
   "outputs": [],
   "source": [
    "with open('msd_data1.pickle', 'rb') as f:\n",
    "    data = pickle.load(f)\n",
    "    \n",
    "X_train, Y_train, X_test, Y_test = data['X_train'], data['Y_train'], data['X_test'], data['Y_test']"
   ]
  },
  {
   "cell_type": "code",
   "execution_count": 11,
   "metadata": {},
   "outputs": [],
   "source": [
    "pred_2 = []\n",
    "for k in k_list:\n",
    "    knn = KNeighborsRegressor(n_neighbors=k)\n",
    "    knn.fit(X_train, Y_train)\n",
    "    pred_2.append(rmse(knn.predict(X_test), Y_test))"
   ]
  },
  {
   "cell_type": "markdown",
   "metadata": {},
   "source": [
    "### Doing again with my own knn regressor"
   ]
  },
  {
   "cell_type": "code",
   "execution_count": 12,
   "metadata": {},
   "outputs": [],
   "source": [
    "with open('msd_data1.pickle', 'rb') as f:\n",
    "    data = pickle.load(f)\n",
    "    \n",
    "X_train, Y_train, X_test, Y_test = data['X_train'], data['Y_train'], data['X_test'], data['Y_test']\n",
    "\n",
    "mean_train, std_train = X_train.mean(axis=0), X_train.std(axis=0)\n",
    "X_train = ((X_train - mean_train) / std_train)\n",
    "mean_test, std_test = X_test.mean(axis=0), X_test.std(axis=0)\n",
    "X_test = ((X_test - mean_test) / std_test)"
   ]
  },
  {
   "cell_type": "code",
   "execution_count": 13,
   "metadata": {},
   "outputs": [],
   "source": [
    "pred_3 = []\n",
    "for k in k_list:\n",
    "    knn = myknn_regressor(k, 'remove_ouliers')\n",
    "    knn.fit(X_train, Y_train)\n",
    "    pred_3.append(rmse(knn.predict(X_test), Y_test))"
   ]
  },
  {
   "cell_type": "markdown",
   "metadata": {},
   "source": [
    "### Plot"
   ]
  },
  {
   "cell_type": "code",
   "execution_count": 14,
   "metadata": {},
   "outputs": [],
   "source": [
    "import matplotlib.pyplot as plt"
   ]
  },
  {
   "cell_type": "code",
   "execution_count": 16,
   "metadata": {},
   "outputs": [
    {
     "data": {
      "image/png": "[encoded data removed]",
      "text/plain": [
       "<Figure size 432x288 with 1 Axes>"
      ]
     },
     "metadata": {
      "needs_background": "light"
     },
     "output_type": "display_data"
    }
   ],
   "source": [
    "plt.plot(k_list, pred_1, 'r', k_list, pred_2, 'b', k_list, pred_3, 'g')\n",
    "plt.ylabel('RMSE')\n",
    "plt.xlabel('k value')\n",
    "plt.legend(labels=['knn w stadardized', 'knn w/o stadardized', 'myknn'],  loc='best')\n",
    "plt.show()"
   ]
  },
  {
   "cell_type": "markdown",
   "metadata": {},
   "source": [
    "#### We can find that our own knn and knn of sklearn with standardized have similar performance. However, knn of sklearn without standardized has higher RMSE.\n",
    "#### We can also find that when k is greater than 25, the RMSE keeps low.\n",
    "#### In conclusion, our own knn regressor has the best performance on test data, and we should choose a big enough k value to build a robust regressor."
   ]
  },
  {
   "cell_type": "code",
   "execution_count": null,
   "metadata": {},
   "outputs": [],
   "source": []
  }
 ],
 "metadata": {
  "kernelspec": {
   "display_name": "Python 3",
   "language": "python",
   "name": "python3"
  },
  "language_info": {
   "codemirror_mode": {
    "name": "ipython",
    "version": 3
   },
   "file_extension": ".py",
   "mimetype": "text/x-python",
   "name": "python",
   "nbconvert_exporter": "python",
   "pygments_lexer": "ipython3",
   "version": "3.7.6"
  }
 },
 "nbformat": 4,
 "nbformat_minor": 4
}
